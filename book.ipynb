{
 "cells": [
  {
   "cell_type": "markdown",
   "metadata": {},
   "source": [
    "# Word Length in James Joyce's Ulysses\n",
    "\n",
    "As the title suggests, my objective is to figure out how many words of each length there are in the entirety of Ulysses."
   ]
  },
  {
   "cell_type": "code",
   "execution_count": 10,
   "metadata": {},
   "outputs": [
    {
     "name": "stdout",
     "output_type": "stream",
     "text": [
      "1: 9375\n",
      "2: 40719\n",
      "3: 55526\n",
      "4: 44338\n",
      "5: 33911\n",
      "6: 25941\n",
      "7: 21178\n",
      "8: 14151\n",
      "9: 9415\n",
      "10: 6035\n",
      "11: 3505\n",
      "12: 1908\n",
      "13: 1018\n",
      "14: 478\n",
      "15: 207\n",
      "16: 90\n",
      "17: 65\n",
      "18: 22\n",
      "19: 17\n",
      "20: 9\n",
      "21: 9\n",
      "22: 5\n",
      "23: 2\n",
      "24: 4\n",
      "25: 1\n",
      "26: 2\n",
      "27: 2\n",
      "28: 3\n",
      "29: 2\n",
      "30: 2\n",
      "31: 1\n",
      "34: 2\n",
      "36: 1\n",
      "37: 1\n",
      "39: 1\n",
      "53: 1\n",
      "91: 1\n",
      "105: 1\n",
      "\n",
      "Total number of letters in Ulysses is 1255643.\n",
      "Total number of words in Ulysses is 267949.\n",
      "Average length of words in Ulyssses is 4.7.\n",
      "The longest word was Nationalgymnasiummuseumsanatoriumandsuspensoriumsordinaryprivatdocentgeneralhistoryspecialprofessordoctor at 105 letters long.\n"
     ]
    }
   ],
   "source": [
    "# read ulysses text file and create list that delimits by whitespace (space, tab, newline)\n",
    "with open('ulysses.txt', 'r', encoding='utf8') as f:\n",
    "    data = f.read()\n",
    "    words = data.split()\n",
    "\n",
    "# use generated list to populate dictionary, where key is word length, value is # of occurrences\n",
    "length_data = {}\n",
    "for word in words:\n",
    "    if len(word) in length_data:\n",
    "        length_data[len(word)] += 1\n",
    "    else:\n",
    "        length_data[len(word)] = 1\n",
    "    if (len(word) == 105): longest_word = word\n",
    "# print results in sorted order\n",
    "for key in sorted(length_data):\n",
    "    print(\"{}: {}\".format(key, length_data[key]))\n",
    "sum = 0\n",
    "total_words = 0\n",
    "for k in length_data:\n",
    "    sum += k * length_data[k]\n",
    "    total_words += length_data[k]\n",
    "    \n",
    "print(\"\\nTotal number of letters in Ulysses is {}.\".format(sum))\n",
    "print(\"Total number of words in Ulysses is {}.\".format(total_words))\n",
    "print(\"Average length of words in Ulyssses is {:.1f}.\".format(sum/total_words))\n",
    "print(\"The longest word was {} at 105 letters long.\".format(longest_word))\n",
    "\n",
    "f.close()"
   ]
  },
  {
   "cell_type": "markdown",
   "metadata": {},
   "source": [
    "## Steps of Analysis\n",
    "\n",
    "The steps required to generate my results were fairly simple, and are largely explained by the commenting within the code cell. Nonetheless, here they are:\n",
    "\n",
    "* Read text file into a very long string.\n",
    "* Use the string to produce a list delimited by whitespaces.\n",
    "* Iterate over the list to populate a dictionary, where keys represent the length of each word, and values represent their number of occurences.\n",
    "* Iterate over the dictionary to produce values like total number of letters, word count, and average word length."
   ]
  },
  {
   "cell_type": "markdown",
   "metadata": {},
   "source": [
    "## Conclusions\n",
    "\n",
    "Based on the information from the generated dictionary, we can derive some interesting information. First of all, based on a cursory Wikipedia search, the average word count of a modern novel comes to about 40,000 words. Ulysses, unsurprisingly, absolutely crushes this value at a colossal 267,949 word count.\n",
    "\n",
    "According to a quick Google search, the average length of an English word is 5.1 letters. Interestingly, the average word length of Ulysses falls short of this at 4.7 letters.\n",
    "\n",
    "Despite this, though, there are certainly some interesting anomolies in terms of word length. For instance, the longest word in the novel stands at a whopping 105 letters long. When I first saw this, I thought it must be a mistake - maybe there was a URL somewhere that was read as a single word. However, after printing the word out and searching for it in the text file, it turns out that it was the last title in a list of people with progressively absurd titles. The second longest word, at 91 letters long, was the product of similar absurdity.\n",
    "\n",
    "Though it doesn't fit within the scale of the assignment, it would have been interesting to try determining why it is that Ulysses has an average word length less than that of the English language in general. Given its reputation as a highly esoteric text, this particular result was very surprising to me."
   ]
  }
 ],
 "metadata": {
  "kernelspec": {
   "display_name": "Python 3",
   "language": "python",
   "name": "python3"
  },
  "language_info": {
   "codemirror_mode": {
    "name": "ipython",
    "version": 3
   },
   "file_extension": ".py",
   "mimetype": "text/x-python",
   "name": "python",
   "nbconvert_exporter": "python",
   "pygments_lexer": "ipython3",
   "version": "3.6.5"
  }
 },
 "nbformat": 4,
 "nbformat_minor": 2
}
